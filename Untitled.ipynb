{
 "cells": [
  {
   "cell_type": "code",
   "execution_count": 6,
   "id": "9b3e48fd",
   "metadata": {},
   "outputs": [],
   "source": [
    "from nba_api.stats.endpoints import leaguegamefinder\n",
    "from datetime import timedelta,date\n",
    "today = date.today() - timedelta(days = 30)\n",
    "today = today.strftime(\"%m/%d/%Y\")\n",
    "recent_games = leaguegamefinder.LeagueGameFinder(date_from_nullable=today)"
   ]
  },
  {
   "cell_type": "code",
   "execution_count": 9,
   "id": "69f03d3a",
   "metadata": {},
   "outputs": [],
   "source": [
    "df = recent_games.get_data_frames()[0]"
   ]
  },
  {
   "cell_type": "code",
   "execution_count": 11,
   "id": "2fa2f02f",
   "metadata": {},
   "outputs": [
    {
     "data": {
      "text/plain": [
       "1022300055    2\n",
       "1212300019    2\n",
       "1212300035    2\n",
       "1212300031    2\n",
       "1212300037    2\n",
       "             ..\n",
       "1212300071    2\n",
       "1212300074    2\n",
       "1022300029    2\n",
       "1212300075    2\n",
       "0042200311    2\n",
       "Name: GAME_ID, Length: 163, dtype: int64"
      ]
     },
     "execution_count": 11,
     "metadata": {},
     "output_type": "execute_result"
    }
   ],
   "source": [
    "df[\"GAME_ID\"].value_counts()"
   ]
  },
  {
   "cell_type": "code",
   "execution_count": null,
   "id": "4ee74b60",
   "metadata": {},
   "outputs": [],
   "source": [
    "df[]"
   ]
  }
 ],
 "metadata": {
  "kernelspec": {
   "display_name": "Python 3",
   "language": "python",
   "name": "python3"
  },
  "language_info": {
   "codemirror_mode": {
    "name": "ipython",
    "version": 3
   },
   "file_extension": ".py",
   "mimetype": "text/x-python",
   "name": "python",
   "nbconvert_exporter": "python",
   "pygments_lexer": "ipython3",
   "version": "3.9.1"
  }
 },
 "nbformat": 4,
 "nbformat_minor": 5
}
